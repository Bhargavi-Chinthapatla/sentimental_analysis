{
 "cells": [
  {
   "cell_type": "markdown",
   "metadata": {},
   "source": [
    "## Imports"
   ]
  },
  {
   "cell_type": "code",
   "execution_count": 14,
   "metadata": {},
   "outputs": [
    {
     "name": "stdout",
     "output_type": "stream",
     "text": [
      "Requirement already satisfied: numpy in c:\\users\\svr\\appdata\\local\\programs\\python\\python37\\lib\\site-packages (1.18.5)\n",
      "Note: you may need to restart the kernel to use updated packages.\n"
     ]
    },
    {
     "name": "stderr",
     "output_type": "stream",
     "text": [
      "WARNING: You are using pip version 20.2.4; however, version 20.3.1 is available.\n",
      "You should consider upgrading via the 'c:\\users\\svr\\appdata\\local\\programs\\python\\python37\\python.exe -m pip install --upgrade pip' command.\n"
     ]
    }
   ],
   "source": [
    "pip install numpy"
   ]
  },
  {
   "cell_type": "code",
   "execution_count": null,
   "metadata": {},
   "outputs": [],
   "source": [
    "pip install pandas"
   ]
  },
  {
   "cell_type": "code",
   "execution_count": 15,
   "metadata": {},
   "outputs": [
    {
     "name": "stdout",
     "output_type": "stream",
     "text": [
      "Requirement already satisfied: textblob in c:\\users\\svr\\appdata\\local\\programs\\python\\python37\\lib\\site-packages (0.15.3)\n",
      "Requirement already satisfied: nltk>=3.1 in c:\\users\\svr\\appdata\\local\\programs\\python\\python37\\lib\\site-packages (from textblob) (3.5)\n",
      "Requirement already satisfied: click in c:\\users\\svr\\appdata\\local\\programs\\python\\python37\\lib\\site-packages (from nltk>=3.1->textblob) (7.1.2)\n",
      "Requirement already satisfied: tqdm in c:\\users\\svr\\appdata\\local\\programs\\python\\python37\\lib\\site-packages (from nltk>=3.1->textblob) (4.54.1)\n",
      "Requirement already satisfied: joblib in c:\\users\\svr\\appdata\\local\\programs\\python\\python37\\lib\\site-packages (from nltk>=3.1->textblob) (1.0.0)\n",
      "Requirement already satisfied: regex in c:\\users\\svr\\appdata\\local\\programs\\python\\python37\\lib\\site-packages (from nltk>=3.1->textblob) (2020.11.13)\n",
      "Note: you may need to restart the kernel to use updated packages.\n"
     ]
    },
    {
     "name": "stderr",
     "output_type": "stream",
     "text": [
      "WARNING: You are using pip version 20.2.4; however, version 20.3.1 is available.\n",
      "You should consider upgrading via the 'c:\\users\\svr\\appdata\\local\\programs\\python\\python37\\python.exe -m pip install --upgrade pip' command.\n"
     ]
    }
   ],
   "source": [
    "pip install textblob"
   ]
  },
  {
   "cell_type": "code",
   "execution_count": 16,
   "metadata": {},
   "outputs": [
    {
     "name": "stdout",
     "output_type": "stream",
     "text": [
      "Requirement already satisfied: textstat in c:\\users\\svr\\appdata\\local\\programs\\python\\python37\\lib\\site-packages (0.7.0)\n",
      "Requirement already satisfied: pyphen in c:\\users\\svr\\appdata\\local\\programs\\python\\python37\\lib\\site-packages (from textstat) (0.10.0)\n",
      "Note: you may need to restart the kernel to use updated packages.\n"
     ]
    },
    {
     "name": "stderr",
     "output_type": "stream",
     "text": [
      "WARNING: You are using pip version 20.2.4; however, version 20.3.1 is available.\n",
      "You should consider upgrading via the 'c:\\users\\svr\\appdata\\local\\programs\\python\\python37\\python.exe -m pip install --upgrade pip' command.\n"
     ]
    }
   ],
   "source": [
    "pip install textstat"
   ]
  },
  {
   "cell_type": "code",
   "execution_count": 31,
   "metadata": {},
   "outputs": [],
   "source": [
    "\n",
    "# Standard Libraries\n",
    "\n",
    "import pandas as pd\n",
    "import numpy as np\n",
    "\n",
    "# NLP Libraries\n",
    "from textblob import TextBlob\n",
    "import textstat\n",
    "\n",
    "def Sentamentize(text):\n",
    "    return TextBlob(str(text)).sentiment.polarity"
   ]
  },
  {
   "cell_type": "code",
   "execution_count": 32,
   "metadata": {},
   "outputs": [
    {
     "data": {
      "text/plain": [
       "0.0"
      ]
     },
     "execution_count": 32,
     "metadata": {},
     "output_type": "execute_result"
    }
   ],
   "source": [
    "TextBlob('test string').sentiment.subjectivity"
   ]
  },
  {
   "cell_type": "markdown",
   "metadata": {},
   "source": [
    "## Data Collection"
   ]
  },
  {
   "cell_type": "code",
   "execution_count": 33,
   "metadata": {},
   "outputs": [],
   "source": [
    "full_doc=\"\"\"\n",
    "ACI Worldwide, Inc. (NASDAQ:ACIW) Q3 2020 Results Earnings Conference Call November 5, 2020 8:30 AM ET\n",
    "\n",
    "Company Participants\n",
    "\n",
    "John Kraft - Vice President of Investor Relations & Strategic Analysis\n",
    "\n",
    "Odilon Almeida - President, Chief Executive Officer\n",
    "\n",
    "Scott Behrens - Senior Executive Vice President, Chief Financial Officer\n",
    "\n",
    "Conference Call Participants\n",
    "\n",
    "Pallav Saini - Canaccord Genuity\n",
    "\n",
    "Brett Huff - Stephens, Inc.\n",
    "\n",
    "Kyle Peterson - Needham\n",
    "\n",
    "George Sutton - Craig-Hallum\n",
    "\n",
    "Alexis Huseby - D.A. Davidson & Co.\n",
    "..........................................................................................................................................................................................................................\n",
    "\n",
    "\n",
    "Operator\n",
    "\n",
    "Ladies and gentlemen, thank you for standing by and welcome to the ACI third quarter earnings announcement. At this time, all participants are in a listen-only mode. After the speakers' presentation, there will be a question-and-answer session. [Operator Instructions].\n",
    "\n",
    "I would like to hand the conference over to your speaker today, Mr. John Kraft, Vice President of Investor Relations. Sir, please go ahead.\n",
    "..........................................................................................................................................................................................................................\n",
    "\n",
    "John Kraft\n",
    "\n",
    "Thank you and good morning everyone. Today's call, like all of our events, is subject to both safe harbor and forward-looking statements. You can find the full text of both statements on the first and final pages of our presentation deck today, a copy of which is available on our website as well as with the SEC.\n",
    "\n",
    "On this morning's call is Odilon Almeida, our President and CEO and Scott Behrens, our CFO. Before I turn it over, I would like to share that ACI will be hosting a Virtual Analyst Day on November 10 to discuss the new ACI strategy. Further information and a registration link are available on the Investor page of our website.\n",
    "\n",
    "With that, I would like to turn the call over to Odilon.\n",
    "..........................................................................................................................................................................................................................\n",
    "\n",
    "Odilon Almeida\n",
    "\n",
    "Thank you John and good morning everyone. Thank you for joining us for our third quarter 2020 earnings conference call. The COVID pandemic has had an impact on nearly all aspects of our daily lives and a lot of uncertainty still remains. However, I couldn't be prouder of our more than 4,000 employees in delivering very solid year-to-date results despite all the challenges.\n",
    "\n",
    "During this crisis, we have remained focused on delivering results while ensuring continuity of our services to our customers. This is very important as we begin the execution of the new ACI strategy. Since I have started, we continue to make progress in executing our three pillar strategy, which sets the foundation for the new ACI to deliver continuous profitable organic growth and a step change value creation through M&A.\n",
    "\n",
    "Our shareholders have high expectations for our performance and for our strategic improvement efforts. I want to emphasize that we share those expectations. We are operating with a sense of urgency and with a clear line of sight to what we want to achieve.\n",
    "\n",
    "Let me start my comments by sharing some further detail on our financial results year-to-date through Q3. Year-to-date revenue of $907 million was up 6% and adjusted EBITDA was up 25% as we have been very focused on cost management and profitability. This growth represented net EBITDA margin of 31%, which is up from 26% versus previous year.\n",
    "\n",
    "We are pleased to report 500 basis points of year-to-date margin improvement in this challenging year. New bookings are up 15% year-to-date from the same period last year. Despite new bookings being up 67% in our On Demand business, new bookings were down 12% in our very profitable On Premise license software business due to COVID-related temporary delays in purchasing decisions by our bank customers. These delays are not impacting renewals but are impacting new business in On Premise and the related license fee revenue. We expect this trend to continue in Q4.\n",
    "\n",
    "Our customer retention remains high, a testament to the ACI's team commitment and our industry-leading product set. We had some exciting new wins in the quarter, particularly in our real-time solution. We launched a new important partnership with Mastercard that expands our go-to-market capabilities and provides the most robust and complete set of real-time capabilities available in the market today.\n",
    "\n",
    "\n",
    "We also built on our strong global customer base and had important renewal and expansionary bookings from companies all over the world in our On Premise segment, including Barclays in the U.K., Red Link in Argentina, OTP in Hungary, BCA in Indonesia and Interac in Canada, all for our retail payments offering. In our On Demand segment, we saw significant booking strength, signing deals with two top credit card billers in the U.S., a top technology provider in the mortgage industry and one of the largest electric and gas utilities. In our Merchant business, we signed e-commerce contracts with two U.K.-based telcos and expanded our relationship with a top athletic apparel company, adding our market-leading fraud prevention capability into their e-commerce offering and helping them expand their reach into the Russian market.\n",
    "\n",
    "As part of our fuel and convenience store growth program, we secured a new private label open-loop card issuing solution with existing customer, Pilot Travel Centers. We are as committed as ever to providing best-in-class service and delivering superior solutions to customers at a time when digital payments are increasingly essential to our ways of life.\n",
    "\n",
    "Turning now to our three-pillar strategic plan. We recently finalized our strategy and have been implementing these priorities into our business with a sense of urgency. We are building an agile and nimble organization with a best-in-class global sales process, focusing on investment on real-time payments, sophisticated larger global merchants and fast-growing emerging markets. We will continue to pursue M&A opportunities on top of consistent organic growth that will drive step change value creation.\n",
    "\n",
    "We look forward to sharing more details on the new ACI strategy at our Analyst Day on November 10, 2020. There is much work to be done to ensure we execute our new ACI strategy and that we prepare the company to come out of this global moment in better shape than before. We have the right team, solutions, portfolio of diversified customers and strategy to re-launch ACI to capitalize on the emerging trends in digital payments.\n",
    "\n",
    "I will now hand the call to Scott to discuss the company's Q3 results in greater detail. Scott?\n",
    "..........................................................................................................................................................................................................................\n",
    "\n",
    "Scott Behrens\n",
    "\n",
    "Thanks Odilon and good morning everyone. I first plan to go through our results for the third quarter and year-to-date and then provide some high-level commentary regarding our outlook for the rest of the year. We will then open the line for questions. I will be starting my comments on slide seven with key takeaways from the quarter.\n",
    "\n",
    "Total bookings grew 43% compared to Q3 last year, with some material renewals occurring in the quarter. Year-to-date total bookings are up 38% over last year. New bookings in Q3 were down 5%, mainly driven by COVID-related delays in our On Premise software business. Year-to-date new bookings are up 15% over last year, driven primarily by strength in our On Demand segment. We ended the quarter with a 12-month backlog of $1.1 billion and a 60-month backlog of $5.9 billion, both up from last quarter.\n",
    "\n",
    "Q3 revenue came in at $316 million, which was down 11% from Q3 last year, largely due to lower nonrecurring license fee revenues in our On Premise business. Year-to-date revenue was up 6% over last year, driven by the contribution from Speedpay. In Q3, our recurring revenue represented 77% of total revenue, up from 69% of total revenue in Q3 last year. Recurring revenue is going to be an important metric in our go-forward strategy to improve the predictability of our financial results and we plan to discuss this metric further at our Investor Day next week.\n",
    "\n",
    "Turning to our segments. Our On Premise revenue was down 23% in the quarter and down 10% year-to-date. The impact of COVID-19 that we have seen in Q2 and Q3 this year primarily relates to the nonrecurring license revenue from new sales. As you know, our products are mission critical, so it's not impacting our existing customer renewals, meaning we are not losing customers, but it is impacting license revenue from new sales, in particular from our bank customers and we are expecting that trend to continue for the balance of the year.\n",
    "\n",
    "\n",
    "Our On Demand revenue was down 1% in Q3 with higher e-commerce volumes and omnichannel merchant payments, helping offset COVID-related slowing in certain verticals in our biller solution and our digital banking solution. Year-to-date our On Demand revenue was up 19% due to the contribution from Speedpay. From a margin perspective, we continue to focus on cost management and maximizing our profitability. While our On Premise adjusted EBITDA margin decreased from 61% to 55% in Q3 due to the decline in the high-margin license revenue, our On Demand margin continues to increase from 20% in Q3 last year to 32% this year. We are very pleased with our profitability improvements in our On Demand business.\n",
    "\n",
    "Turning next to slide 8, starting with debt and liquidity. Q3 saw strong cash flow with cash flow from operating activities of $67 million in the quarter, up more than 100% from Q3 last year. And we have significant liquidity as we ended the quarter with $134 million in cash and $340 million available on our revolver. During the quarter, we paid down $50 million in debt and our current debt balance is $1.3 billion. This represents a net debt leverage ratio of 3.3 times. We remain focused on reducing our debt and plan to be back to our targeted net leverage ratio of 2.5 times by the end of next year.\n",
    "\n",
    "Turning next to our outlook for the rest of 2020. As previously announced, given the uncertainties around COVID-19, we have temporarily suspended our financial guidance for the rest of the year, so we won't give you both financial ranges, but I will say that we are comfortable with where we are seeing full year consensus EBITDA lining up.\n",
    "\n",
    "So that concludes my prepared remarks. Operator, we are ready to open the line for questions at this time.\n",
    "..........................................................................................................................................................................................................................\n",
    "\n",
    "Question-and-Answer Session\n",
    "..........................................................................................................................................................................................................................\n",
    "\n",
    "Operator\n",
    "\n",
    "[Operator Instructions] Your first line comes from the line of Joe Vafi from Canaccord Genuity. Your line is open.\n",
    "..........................................................................................................................................................................................................................\n",
    "\n",
    "Pallav Saini\n",
    "\n",
    "Thank you. This is Pallav Saini, on for Joe. Strong new bookings in the On Demand business in the quarter, can you offer any additional color on where you are seeing the most traction? And maybe speak to it from a domestic and international perspective as well? And I have a follow-up.\n",
    "..........................................................................................................................................................................................................................\n",
    "\n",
    "Scott Behrens\n",
    "\n",
    "Yes. And Odilon cited some of that in his commentary, was the strength in On Demand is coming from biller and e-commerce. Our biller business is entirely U.S. domestic. But remember, that's where we are getting the traction on our combination of ACI with the Speedpay acquisition. And then the e-commerce is international. If I look broader outside the U.S. and I would include here too, the On Premise sales as well, we continue to see weakness in Europe in particular. But Asia, we are seeing particular strength, albeit off a smaller base of our business, but you wanted some geographic color.\n",
    "..........................................................................................................................................................................................................................\n",
    "\n",
    "Pallav Saini\n",
    "\n",
    "Got it. Thank you. And on the Mastercard collaboration, it seems like a great partnership. How should we think about the evolution of this collaboration as we look ahead to maybe next year or so? Thank you.\n",
    "..........................................................................................................................................................................................................................\n",
    "\n",
    "Odilon Almeida\n",
    "\n",
    "Yes. It's hard to be precise now, Pallav, because we are going to start this collaboration now. And when we start seeing the first countries that we go together and we start to gain the RFPs and so forth, we are going to be able to better quantify that. For now, I would say, it's a very robust solution and we believe that it has a lot of potential.\n",
    "..........................................................................................................................................................................................................................\n",
    "\n",
    "Pallav Saini\n",
    "\n",
    "Great. Thank you.\n",
    "..........................................................................................................................................................................................................................\n",
    "\n",
    "Operator\n",
    "\n",
    "Your next question comes from the line of Brett Huff from Stephens, Inc. Your line is open.\n",
    "..........................................................................................................................................................................................................................\n",
    "\n",
    "Scott Behrens\n",
    "\n",
    "Brett, you there.\n",
    "..........................................................................................................................................................................................................................\n",
    "\n",
    "Odilon Almeida\n",
    "\n",
    "Brett.\n",
    "\n",
    "..........................................................................................................................................................................................................................\n",
    "Brett Huff\n",
    "\n",
    "Hi guys. Sorry about that. I apologize. We were on mute. I appreciate the time to ask questions, as always. I just wanted to touch base and understand any update kind of quarter-to-date on how the conversations are going with some of the larger license buyers? I know that it seems like some of them are just on hold. But I am trying to understand the mood or the tenor of those folks and kind of if they have any visibility on maybe re-ramping some of those purchases?\n",
    "\n",
    "..........................................................................................................................................................................................................................\n",
    "Odilon Almeida\n",
    "\n",
    "Thanks for the question. Brett. It's very clear for us, there are some headwinds and they will continue in Q4. We don't see them getting better. So we are not talking about renewals, again. Renewals are coming pretty strong and our products are mission critical, so we have no problem to renew the contracts and that's going quite well. The part that is really being delayed are the new products and the new services to the new logos and existing logos. So we are seeing RFPs being postponed or RFPs being canceled, in some cases. And it's very hard to predict when this is going to stop. But it's clear for us that it will continue, at least continue in Q4.\n",
    "..........................................................................................................................................................................................................................\n",
    "Brett Huff\n",
    "\n",
    "Okay. That's helpful. And then a question on, thanks for some of the insight or sort of the teaser on the Analyst Day for the places you guys are going to invest in emerging markets, global clients, et cetera. Can you talk a little bit about the global client choice? I know that there's a number of products you guys picked up, be it fraud, be it gateways and things like that. That one was a more unique choice than maybe the other twos, which seemed more down the fairway. Just give us your thoughts on, I don't want to steal your thunder from the Analyst Day, but why the big global merchant focus?\n",
    "..........................................................................................................................................................................................................................\n",
    "Odilon Almeida\n",
    "\n",
    "Yes. The segment we are pursuing, it's quite clear for us. We have a great solution for what we call global sophisticated merchants, those ones that want to acquire agnostic solution, where they can really control the experience of their consumers. And that's where I think we come to play. If there is a merchant that wants just like a plain vanilla solution, probably we are not the best ones. You have the processors, the big processors and so forth. But if you want something that really, again, it's acquirer-agnostic, more sophisticated, when you control the experience of your customer, the merchant that's where I think we come to play.\n",
    "..........................................................................................................................................................................................................................\n",
    "Brett Huff\n",
    "\n",
    "Okay. And then last question for me and you may have addressed this already. But the license revenue was tough, we know and that's very high-margin stuff. Yet, you guys came in pretty nicely above where we thought on the profit. Could you go through kind of the drivers of that? And just could you just give us the quick ones?\n",
    "..........................................................................................................................................................................................................................\n",
    "Odilon Almeida\n",
    "\n",
    "Yes, I will give to Scott, but I want to start because you really touched the part that I am very proud of the team here. I think that's called operational discipline and we came very strong on costs during this year. There is also some help from Speedpay acquisition, but the majority of it is organic. And I think you got the point. Our most profitable by far segment is under-delivering. And even with that, we have 500 basis points of margin improvement. So, very proud of the team, very proud of the operational discipline.\n",
    "\n",
    "I will give it to Scott.\n",
    "..........................................................................................................................................................................................................................\n",
    "Scott Behrens\n",
    "\n",
    "Yes. No, I would just add to that obviously, as you recall, we implemented early in the year, $20 million of structural cost reduction in the business. And then in reaction to COVID back in, call it, late March, very early April, we quickly implemented another $30 million of cost savings that is continuing to benefit us. Versus the September numbers, obviously, revenue came in better. But again, it's our continued focus and discipline around the cost side that we are continuing to look at. Obviously, that's the area we can control more than we can control new customer deal. So obviously, we are very happy with our cost containment efforts.\n",
    "..........................................................................................................................................................................................................................\n",
    "Brett Huff\n",
    "\n",
    "Great. That's it for me. Thanks for the color guys.\n",
    "..........................................................................................................................................................................................................................\n",
    "Operator\n",
    "\n",
    "Your next question comes from the line of Mayank Tandon from Needham. Your line is open.\n",
    "..........................................................................................................................................................................................................................\n",
    "Kyle Peterson\n",
    "\n",
    "Hi. Good morning. This is actually Kyle Peterson, on for Mayank. Thanks for taking our questions. I just wanted to touch a little bit on some of the trends in the On Premise business. I know you mentioned that the trends have been tough here. But I guess now that we are a couple of quarters in the COVID, I guess, either quantitatively or qualitatively on the new business front, have you guys noticed any shift in conversations into whether new business is converting more postponements versus cancellations? Or just kind of like broad-based, what you guys are seeing there, now that we are a few quarters into the pandemic?\n",
    "\n",
    "..........................................................................................................................................................................................................................\n",
    "Odilon Almeida\n",
    "\n",
    "Thank you Kyle, I think the summary is, it's not getting better. I think it continues the same way. And mainly the banks, they are delaying decisions on new investment on things that they can delay. So I think that's what's happening around the growth. There are some exceptions of some geographies around the globe. But most of it is really delaying decisions. You could say that we are doing the same thing with expenses, right, in some way. I think, that's what they are doing, the banks, around the globe. They really delay decisions and delay while they can.\n",
    "\n",
    "So you have like modernization of infrastructures, they will happen sooner or later because they are banks that once you go to the cloud, there are banks that have this long-term vision of modernization, adding the products to the mix. So that will happen. But those decisions are being delayed and it's not improving month-after-month. I mean it's at the same stage.\n",
    "\n",
    "Would you agree, Scott?\n",
    "..........................................................................................................................................................................................................................\n",
    "Scott Behrens\n",
    "\n",
    "Yes. I think the only thing I would add to that is I think you mentioned the word canceled. Certainly, none of our projects that are in-flight have been canceled and we are not hearing for the marketplace that modernization-type projects are being canceled as much as they are being delayed at this point.\n",
    "..........................................................................................................................................................................................................................\n",
    "Kyle Peterson\n",
    "\n",
    "Okay. That's helpful color. And then I guess, just a follow-up on some of the trends in payment volumes you guys are seeing, specifically I know the tax season got shifted around and kind of switched around some seasonality this year. What impact did you guys have from this shifting of the tax deadline in 3Q? And just any other color on how payment volumes are trending, either year-to-date or so far in the quarter? Any color would be helpful.\n",
    "..........................................................................................................................................................................................................................\n",
    "Scott Behrens\n",
    "\n",
    "Yes. Obviously, we are impacted by the shift in, in particular, the IRS deadline shift from Q2 to Q3. So we saw that volume shift. We didn't get it all back in Q3. So I would say whatever the miss we had from Q2 on IRS didn't all come back. A large portion of it did. But that's more of a, what I would call a gross revenue story that comes with a lot of interchange. So you will see the interchange also went up in Q3. So not a lot of net revenue impact on that business.\n",
    "\n",
    "I think if you broaden out beyond the tax side, the biller volumes have leveled off, but they had dipped back in, call it, April, May. They have come back a bit. We are still seeing some volume less than our target volume on the biller side. But then on the e-commerce side, we continue to see high volumes there. So a bit of a balance, some volumes have gone up and when I say biller, it's particularly certain verticals.\n",
    "..........................................................................................................................................................................................................................\n",
    "Kyle Peterson\n",
    "\n",
    "All right. Great. That's good color. Thanks guys.\n",
    "..........................................................................................................................................................................................................................\n",
    "Operator\n",
    "\n",
    "Your next question comes from the line of George Sutton from Craig-Hallum. Your line is open.\n",
    "..........................................................................................................................................................................................................................\n",
    "George Sutton\n",
    "\n",
    "Thanks for taking my question. I guess, can you talk a bit about the go-to-market for real-time payments in the U.S. a bit? I mean, so far, it seems like adoption has predominantly been from some of the larger institutions. I guess, what's kind of a catalyst for greater adoption down-market? Is there any difference in how you are approaching that?\n",
    "..........................................................................................................................................................................................................................\n",
    "Scott Behrens\n",
    "\n",
    "Yes. I would say that if you look at most of our growth over the last years, obviously, real-time is our fastest-growing segment. A lot of that growth has been international. I mean internationally, those markets have mandated regulatory requirements for real-time. We have had success in the U.S. selling the capabilities. But to this point, we haven't seen a real critical mass in terms of adoption.\n",
    "\n",
    "I don't know, Odilon, if you want to add any more to that?\n",
    "..........................................................................................................................................................................................................................\n",
    "Odilon Almeida\n",
    "\n",
    "Yes. I think it would be fair to say that if you think about real-time around the globe, the U.S. market is not the leading force. It's more of a following force. And you have markets that are much more advanced than you have. So there's a lot of catching up to happen. We believe that will happen. And the catch up in United States will happen. You have the FedNow project. Things are coming along. You have that, you have lots of services come to play. But for sure, there's a lot of progress yet to be made in the United States that if you compare it to other countries around the globe, it's kind of a lagging a lot.\n",
    "\n",
    "..........................................................................................................................................................................................................................\n",
    "George Sutton\n",
    "\n",
    "Got it. And then, I guess, will the partnership with Mastercard actually help you grow in the U.S.? Or is that predominantly internationally focused?\n",
    "..........................................................................................................................................................................................................................\n",
    "Odilon Almeida\n",
    "\n",
    "You know, we are very excited about that. And also Mastercard is very excited about that. But I am very skeptical on everything that we start doing like those big items. This can be huge, don't get me wrong, it can be huge. But it's really like something that we are going to be testing together with Mastercard and learning market-by-market. And don't forget that, I mean, real-time payments is not a global solution. Last mile is very important. So it's all local. So it may work in one country better than other country and so forth. So it's going to be experiencing and experimenting. But I don't want to undersell this thing and not also oversell. I think it is a great initiative. And we are really behind it big time.\n",
    "..........................................................................................................................................................................................................................\n",
    "George Sutton\n",
    "\n",
    "Great. And then some of the On Prem deals that were delayed. I know you said they were from new customers. I mean, is it possible that they switch to an On Demand deal? Or is that something you are actively pursuing?\n",
    "..........................................................................................................................................................................................................................\n",
    "Odilon Almeida\n",
    "\n",
    "We track that with a lot of discipline. So for example, we have rate of wins, rate of losing, losses in our deals, in RFPs. And what I can tell you is that we are not having more losses or less wins that we have up here. So it's not about losing the project itself. It's more about delaying the decision if it were to not happen in the same amount of time that we are expecting that to happen.\n",
    "..........................................................................................................................................................................................................................\n",
    "George Sutton\n",
    "\n",
    "Makes sense. That's it for me. Thanks guys.\n",
    "..........................................................................................................................................................................................................................\n",
    "Operator\n",
    "\n",
    "[Operator Instructions]. Your next question comes from the line of Peter Heckmann from D.A. Davidson & Co.. Your line is open.\n",
    "..........................................................................................................................................................................................................................\n",
    "Alexis Huseby\n",
    "\n",
    "Good morning guys. This is Alexis, on for Pete. I just wanted to touch in on Speedpay really quickly. Could you help us with the organic growth number for Speedpay in the quarter?\n",
    "..........................................................................................................................................................................................................................\n",
    "Scott Behrens\n",
    "\n",
    "Well, Q3, we had Speedpay in all of last year. So really, there's no difference between Speedpay and the core business year-over-year. It's 100% organic. We closed on that deal back in May of 2019. So Q2 had a bit of an inorganic, organic mix. But Q3 was fully comparable.\n",
    "..........................................................................................................................................................................................................................\n",
    "Odilon Almeida\n",
    "\n",
    "I think, Scott, it would be fair to say that a significant impact that you saw was the tax, right, volume in Q3, right?\n",
    "..........................................................................................................................................................................................................................\n",
    "Scott Behrens\n",
    "\n",
    "So yes. Yes, if you look at it, if you are trying to get some color in terms of how it's tracking versus what we are expecting, Speedpay has been tracking to our business case. Obviously, it also delivers a lot of margin and lot of cash flow. So in hindsight, especially going through a year like this, when you are really focused on profitability and cash, Speedpay has been a very good contributor to the business.\n",
    "..........................................................................................................................................................................................................................\n",
    "Odilon Almeida\n",
    "\n",
    "Yes. We are very happy with the acquisition. And we look at it and say, there is still much more room to grow scale in bill payment.\n",
    "..........................................................................................................................................................................................................................\n",
    "Alexis Huseby\n",
    "\n",
    "Okay. Understood. That's helpful. Thank you. And then more broadly on On Demand, when you are looking out, I don't know, next year or a couple of years, do you have a sense of when On Demand will be able to reach a sustainable growth range in sort of the mid single digits?\n",
    "..........................................................................................................................................................................................................................\n",
    "Odilon Almeida\n",
    "\n",
    "Yes. We are not giving like long term guidance now. But what I can tell you is that November 10, we will be talking about that. So stay tuned, Alexis. And November 10, we will talk in detail about that.\n",
    "..........................................................................................................................................................................................................................\n",
    "Alexis Huseby\n",
    "\n",
    "Okay. Fair enough. Thank you.\n",
    "..........................................................................................................................................................................................................................\n",
    "Operator\n",
    "\n",
    "[Operator Instructions]. Excuse me, sirs, there are no more follow on questions. You may continue.\n",
    "..........................................................................................................................................................................................................................\n",
    "John Kraft\n",
    "\n",
    "Well, thanks, everybody, for listening. We look forward to getting in front of everybody again next Tuesday at our Analyst Day. Have a good day.\n",
    "..........................................................................................................................................................................................................................\n",
    "Operator\n",
    "\n",
    "This concludes today's conference call. You may now disconnect. Presenters, please standby.\n",
    "\n",
    "\n",
    "\n",
    "\n",
    "\n",
    "\"\"\""
   ]
  },
  {
   "cell_type": "code",
   "execution_count": 34,
   "metadata": {},
   "outputs": [
    {
     "data": {
      "text/plain": [
       "\"\\nACI Worldwide, Inc. (NASDAQ:ACIW) Q3 2020 Results Earnings Conference Call November 5, 2020 8:30 AM ET\\n\\nCompany Participants\\n\\nJohn Kraft - Vice President of Investor Relations & Strategic Analysis\\n\\nOdilon Almeida - President, Chief Executive Officer\\n\\nScott Behrens - Senior Executive Vice President, Chief Financial Officer\\n\\nConference Call Participants\\n\\nPallav Saini - Canaccord Genuity\\n\\nBrett Huff - Stephens, Inc.\\n\\nKyle Peterson - Needham\\n\\nGeorge Sutton - Craig-Hallum\\n\\nAlexis Huseby - D.A. Davidson & Co.\\n..........................................................................................................................................................................................................................\\n\\n\\nOperator\\n\\nLadies and gentlemen, thank you for standing by and welcome to the ACI third quarter earnings announcement. At this time, all participants are in a listen-only mode. After the speakers' presentation, there will be a question-and-answer session. [Operator Instructions].\\n\\nI would like to hand the conference over to your speaker today, Mr. John Kraft, Vice President of Investor Relations. Sir, please go ahead.\\n..........................................................................................................................................................................................................................\\n\\nJohn Kraft\\n\\nThank you and good morning everyone. Today's call, like all of our events, is subject to both safe harbor and forward-looking statements. You can find the full text of both statements on the first and final pages of our presentation deck today, a copy of which is available on our website as well as with the SEC.\\n\\nOn this morning's call is Odilon Almeida, our President and CEO and Scott Behrens, our CFO. Before I turn it over, I would like to share that ACI will be hosting a Virtual Analyst Day on November 10 to discuss the new ACI strategy. Further information and a registration link are available on the Investor page of our website.\\n\\nWith that, I would like to turn the call over to Odilon.\\n..........................................................................................................................................................................................................................\\n\\nOdilon Almeida\\n\\nThank you John and good morning everyone. Thank you for joining us for our third quarter 2020 earnings conference call. The COVID pandemic has had an impact on nearly all aspects of our daily lives and a lot of uncertainty still remains. However, I couldn't be prouder of our more than 4,000 employees in delivering very solid year-to-date results despite all the challenges.\\n\\nDuring this crisis, we have remained focused on delivering results while ensuring continuity of our services to our customers. This is very important as we begin the execution of the new ACI strategy. Since I have started, we continue to make progress in executing our three pillar strategy, which sets the foundation for the new ACI to deliver continuous profitable organic growth and a step change value creation through M&A.\\n\\nOur shareholders have high expectations for our performance and for our strategic improvement efforts. I want to emphasize that we share those expectations. We are operating with a sense of urgency and with a clear line of sight to what we want to achieve.\\n\\nLet me start my comments by sharing some further detail on our financial results year-to-date through Q3. Year-to-date revenue of $907 million was up 6% and adjusted EBITDA was up 25% as we have been very focused on cost management and profitability. This growth represented net EBITDA margin of 31%, which is up from 26% versus previous year.\\n\\nWe are pleased to report 500 basis points of year-to-date margin improvement in this challenging year. New bookings are up 15% year-to-date from the same period last year. Despite new bookings being up 67% in our On Demand business, new bookings were down 12% in our very profitable On Premise license software business due to COVID-related temporary delays in purchasing decisions by our bank customers. These delays are not impacting renewals but are impacting new business in On Premise and the related license fee revenue. We expect this trend to continue in Q4.\\n\\nOur customer retention remains high, a testament to the ACI's team commitment and our industry-leading product set. We had some exciting new wins in the quarter, particularly in our real-time solution. We launched a new important partnership with Mastercard that expands our go-to-market capabilities and provides the most robust and complete set of real-time capabilities available in the market today.\\n\\n\\nWe also built on our strong global customer base and had important renewal and expansionary bookings from companies all over the world in our On Premise segment, including Barclays in the U.K., Red Link in Argentina, OTP in Hungary, BCA in Indonesia and Interac in Canada, all for our retail payments offering. In our On Demand segment, we saw significant booking strength, signing deals with two top credit card billers in the U.S., a top technology provider in the mortgage industry and one of the largest electric and gas utilities. In our Merchant business, we signed e-commerce contracts with two U.K.-based telcos and expanded our relationship with a top athletic apparel company, adding our market-leading fraud prevention capability into their e-commerce offering and helping them expand their reach into the Russian market.\\n\\nAs part of our fuel and convenience store growth program, we secured a new private label open-loop card issuing solution with existing customer, Pilot Travel Centers. We are as committed as ever to providing best-in-class service and delivering superior solutions to customers at a time when digital payments are increasingly essential to our ways of life.\\n\\nTurning now to our three-pillar strategic plan. We recently finalized our strategy and have been implementing these priorities into our business with a sense of urgency. We are building an agile and nimble organization with a best-in-class global sales process, focusing on investment on real-time payments, sophisticated larger global merchants and fast-growing emerging markets. We will continue to pursue M&A opportunities on top of consistent organic growth that will drive step change value creation.\\n\\nWe look forward to sharing more details on the new ACI strategy at our Analyst Day on November 10, 2020. There is much work to be done to ensure we execute our new ACI strategy and that we prepare the company to come out of this global moment in better shape than before. We have the right team, solutions, portfolio of diversified customers and strategy to re-launch ACI to capitalize on the emerging trends in digital payments.\\n\\nI will now hand the call to Scott to discuss the company's Q3 results in greater detail. Scott?\\n..........................................................................................................................................................................................................................\\n\\nScott Behrens\\n\\nThanks Odilon and good morning everyone. I first plan to go through our results for the third quarter and year-to-date and then provide some high-level commentary regarding our outlook for the rest of the year. We will then open the line for questions. I will be starting my comments on slide seven with key takeaways from the quarter.\\n\\nTotal bookings grew 43% compared to Q3 last year, with some material renewals occurring in the quarter. Year-to-date total bookings are up 38% over last year. New bookings in Q3 were down 5%, mainly driven by COVID-related delays in our On Premise software business. Year-to-date new bookings are up 15% over last year, driven primarily by strength in our On Demand segment. We ended the quarter with a 12-month backlog of $1.1 billion and a 60-month backlog of $5.9 billion, both up from last quarter.\\n\\nQ3 revenue came in at $316 million, which was down 11% from Q3 last year, largely due to lower nonrecurring license fee revenues in our On Premise business. Year-to-date revenue was up 6% over last year, driven by the contribution from Speedpay. In Q3, our recurring revenue represented 77% of total revenue, up from 69% of total revenue in Q3 last year. Recurring revenue is going to be an important metric in our go-forward strategy to improve the predictability of our financial results and we plan to discuss this metric further at our Investor Day next week.\\n\\nTurning to our segments. Our On Premise revenue was down 23% in the quarter and down 10% year-to-date. The impact of COVID-19 that we have seen in Q2 and Q3 this year primarily relates to the nonrecurring license revenue from new sales. As you know, our products are mission critical, so it's not impacting our existing customer renewals, meaning we are not losing customers, but it is impacting license revenue from new sales, in particular from our bank customers and we are expecting that trend to continue for the balance of the year.\\n\\n\\nOur On Demand revenue was down 1% in Q3 with higher e-commerce volumes and omnichannel merchant payments, helping offset COVID-related slowing in certain verticals in our biller solution and our digital banking solution. Year-to-date our On Demand revenue was up 19% due to the contribution from Speedpay. From a margin perspective, we continue to focus on cost management and maximizing our profitability. While our On Premise adjusted EBITDA margin decreased from 61% to 55% in Q3 due to the decline in the high-margin license revenue, our On Demand margin continues to increase from 20% in Q3 last year to 32% this year. We are very pleased with our profitability improvements in our On Demand business.\\n\\nTurning next to slide 8, starting with debt and liquidity. Q3 saw strong cash flow with cash flow from operating activities of $67 million in the quarter, up more than 100% from Q3 last year. And we have significant liquidity as we ended the quarter with $134 million in cash and $340 million available on our revolver. During the quarter, we paid down $50 million in debt and our current debt balance is $1.3 billion. This represents a net debt leverage ratio of 3.3 times. We remain focused on reducing our debt and plan to be back to our targeted net leverage ratio of 2.5 times by the end of next year.\\n\\nTurning next to our outlook for the rest of 2020. As previously announced, given the uncertainties around COVID-19, we have temporarily suspended our financial guidance for the rest of the year, so we won't give you both financial ranges, but I will say that we are comfortable with where we are seeing full year consensus EBITDA lining up.\\n\\nSo that concludes my prepared remarks. Operator, we are ready to open the line for questions at this time.\\n..........................................................................................................................................................................................................................\\n\\nQuestion-and-Answer Session\\n..........................................................................................................................................................................................................................\\n\\nOperator\\n\\n[Operator Instructions] Your first line comes from the line of Joe Vafi from Canaccord Genuity. Your line is open.\\n..........................................................................................................................................................................................................................\\n\\nPallav Saini\\n\\nThank you. This is Pallav Saini, on for Joe. Strong new bookings in the On Demand business in the quarter, can you offer any additional color on where you are seeing the most traction? And maybe speak to it from a domestic and international perspective as well? And I have a follow-up.\\n..........................................................................................................................................................................................................................\\n\\nScott Behrens\\n\\nYes. And Odilon cited some of that in his commentary, was the strength in On Demand is coming from biller and e-commerce. Our biller business is entirely U.S. domestic. But remember, that's where we are getting the traction on our combination of ACI with the Speedpay acquisition. And then the e-commerce is international. If I look broader outside the U.S. and I would include here too, the On Premise sales as well, we continue to see weakness in Europe in particular. But Asia, we are seeing particular strength, albeit off a smaller base of our business, but you wanted some geographic color.\\n..........................................................................................................................................................................................................................\\n\\nPallav Saini\\n\\nGot it. Thank you. And on the Mastercard collaboration, it seems like a great partnership. How should we think about the evolution of this collaboration as we look ahead to maybe next year or so? Thank you.\\n..........................................................................................................................................................................................................................\\n\\nOdilon Almeida\\n\\nYes. It's hard to be precise now, Pallav, because we are going to start this collaboration now. And when we start seeing the first countries that we go together and we start to gain the RFPs and so forth, we are going to be able to better quantify that. For now, I would say, it's a very robust solution and we believe that it has a lot of potential.\\n..........................................................................................................................................................................................................................\\n\\nPallav Saini\\n\\nGreat. Thank you.\\n..........................................................................................................................................................................................................................\\n\\nOperator\\n\\nYour next question comes from the line of Brett Huff from Stephens, Inc. Your line is open.\\n..........................................................................................................................................................................................................................\\n\\nScott Behrens\\n\\nBrett, you there.\\n..........................................................................................................................................................................................................................\\n\\nOdilon Almeida\\n\\nBrett.\\n\\n..........................................................................................................................................................................................................................\\nBrett Huff\\n\\nHi guys. Sorry about that. I apologize. We were on mute. I appreciate the time to ask questions, as always. I just wanted to touch base and understand any update kind of quarter-to-date on how the conversations are going with some of the larger license buyers? I know that it seems like some of them are just on hold. But I am trying to understand the mood or the tenor of those folks and kind of if they have any visibility on maybe re-ramping some of those purchases?\\n\\n..........................................................................................................................................................................................................................\\nOdilon Almeida\\n\\nThanks for the question. Brett. It's very clear for us, there are some headwinds and they will continue in Q4. We don't see them getting better. So we are not talking about renewals, again. Renewals are coming pretty strong and our products are mission critical, so we have no problem to renew the contracts and that's going quite well. The part that is really being delayed are the new products and the new services to the new logos and existing logos. So we are seeing RFPs being postponed or RFPs being canceled, in some cases. And it's very hard to predict when this is going to stop. But it's clear for us that it will continue, at least continue in Q4.\\n..........................................................................................................................................................................................................................\\nBrett Huff\\n\\nOkay. That's helpful. And then a question on, thanks for some of the insight or sort of the teaser on the Analyst Day for the places you guys are going to invest in emerging markets, global clients, et cetera. Can you talk a little bit about the global client choice? I know that there's a number of products you guys picked up, be it fraud, be it gateways and things like that. That one was a more unique choice than maybe the other twos, which seemed more down the fairway. Just give us your thoughts on, I don't want to steal your thunder from the Analyst Day, but why the big global merchant focus?\\n..........................................................................................................................................................................................................................\\nOdilon Almeida\\n\\nYes. The segment we are pursuing, it's quite clear for us. We have a great solution for what we call global sophisticated merchants, those ones that want to acquire agnostic solution, where they can really control the experience of their consumers. And that's where I think we come to play. If there is a merchant that wants just like a plain vanilla solution, probably we are not the best ones. You have the processors, the big processors and so forth. But if you want something that really, again, it's acquirer-agnostic, more sophisticated, when you control the experience of your customer, the merchant that's where I think we come to play.\\n..........................................................................................................................................................................................................................\\nBrett Huff\\n\\nOkay. And then last question for me and you may have addressed this already. But the license revenue was tough, we know and that's very high-margin stuff. Yet, you guys came in pretty nicely above where we thought on the profit. Could you go through kind of the drivers of that? And just could you just give us the quick ones?\\n..........................................................................................................................................................................................................................\\nOdilon Almeida\\n\\nYes, I will give to Scott, but I want to start because you really touched the part that I am very proud of the team here. I think that's called operational discipline and we came very strong on costs during this year. There is also some help from Speedpay acquisition, but the majority of it is organic. And I think you got the point. Our most profitable by far segment is under-delivering. And even with that, we have 500 basis points of margin improvement. So, very proud of the team, very proud of the operational discipline.\\n\\nI will give it to Scott.\\n..........................................................................................................................................................................................................................\\nScott Behrens\\n\\nYes. No, I would just add to that obviously, as you recall, we implemented early in the year, $20 million of structural cost reduction in the business. And then in reaction to COVID back in, call it, late March, very early April, we quickly implemented another $30 million of cost savings that is continuing to benefit us. Versus the September numbers, obviously, revenue came in better. But again, it's our continued focus and discipline around the cost side that we are continuing to look at. Obviously, that's the area we can control more than we can control new customer deal. So obviously, we are very happy with our cost containment efforts.\\n..........................................................................................................................................................................................................................\\nBrett Huff\\n\\nGreat. That's it for me. Thanks for the color guys.\\n..........................................................................................................................................................................................................................\\nOperator\\n\\nYour next question comes from the line of Mayank Tandon from Needham. Your line is open.\\n..........................................................................................................................................................................................................................\\nKyle Peterson\\n\\nHi. Good morning. This is actually Kyle Peterson, on for Mayank. Thanks for taking our questions. I just wanted to touch a little bit on some of the trends in the On Premise business. I know you mentioned that the trends have been tough here. But I guess now that we are a couple of quarters in the COVID, I guess, either quantitatively or qualitatively on the new business front, have you guys noticed any shift in conversations into whether new business is converting more postponements versus cancellations? Or just kind of like broad-based, what you guys are seeing there, now that we are a few quarters into the pandemic?\\n\\n..........................................................................................................................................................................................................................\\nOdilon Almeida\\n\\nThank you Kyle, I think the summary is, it's not getting better. I think it continues the same way. And mainly the banks, they are delaying decisions on new investment on things that they can delay. So I think that's what's happening around the growth. There are some exceptions of some geographies around the globe. But most of it is really delaying decisions. You could say that we are doing the same thing with expenses, right, in some way. I think, that's what they are doing, the banks, around the globe. They really delay decisions and delay while they can.\\n\\nSo you have like modernization of infrastructures, they will happen sooner or later because they are banks that once you go to the cloud, there are banks that have this long-term vision of modernization, adding the products to the mix. So that will happen. But those decisions are being delayed and it's not improving month-after-month. I mean it's at the same stage.\\n\\nWould you agree, Scott?\\n..........................................................................................................................................................................................................................\\nScott Behrens\\n\\nYes. I think the only thing I would add to that is I think you mentioned the word canceled. Certainly, none of our projects that are in-flight have been canceled and we are not hearing for the marketplace that modernization-type projects are being canceled as much as they are being delayed at this point.\\n..........................................................................................................................................................................................................................\\nKyle Peterson\\n\\nOkay. That's helpful color. And then I guess, just a follow-up on some of the trends in payment volumes you guys are seeing, specifically I know the tax season got shifted around and kind of switched around some seasonality this year. What impact did you guys have from this shifting of the tax deadline in 3Q? And just any other color on how payment volumes are trending, either year-to-date or so far in the quarter? Any color would be helpful.\\n..........................................................................................................................................................................................................................\\nScott Behrens\\n\\nYes. Obviously, we are impacted by the shift in, in particular, the IRS deadline shift from Q2 to Q3. So we saw that volume shift. We didn't get it all back in Q3. So I would say whatever the miss we had from Q2 on IRS didn't all come back. A large portion of it did. But that's more of a, what I would call a gross revenue story that comes with a lot of interchange. So you will see the interchange also went up in Q3. So not a lot of net revenue impact on that business.\\n\\nI think if you broaden out beyond the tax side, the biller volumes have leveled off, but they had dipped back in, call it, April, May. They have come back a bit. We are still seeing some volume less than our target volume on the biller side. But then on the e-commerce side, we continue to see high volumes there. So a bit of a balance, some volumes have gone up and when I say biller, it's particularly certain verticals.\\n..........................................................................................................................................................................................................................\\nKyle Peterson\\n\\nAll right. Great. That's good color. Thanks guys.\\n..........................................................................................................................................................................................................................\\nOperator\\n\\nYour next question comes from the line of George Sutton from Craig-Hallum. Your line is open.\\n..........................................................................................................................................................................................................................\\nGeorge Sutton\\n\\nThanks for taking my question. I guess, can you talk a bit about the go-to-market for real-time payments in the U.S. a bit? I mean, so far, it seems like adoption has predominantly been from some of the larger institutions. I guess, what's kind of a catalyst for greater adoption down-market? Is there any difference in how you are approaching that?\\n..........................................................................................................................................................................................................................\\nScott Behrens\\n\\nYes. I would say that if you look at most of our growth over the last years, obviously, real-time is our fastest-growing segment. A lot of that growth has been international. I mean internationally, those markets have mandated regulatory requirements for real-time. We have had success in the U.S. selling the capabilities. But to this point, we haven't seen a real critical mass in terms of adoption.\\n\\nI don't know, Odilon, if you want to add any more to that?\\n..........................................................................................................................................................................................................................\\nOdilon Almeida\\n\\nYes. I think it would be fair to say that if you think about real-time around the globe, the U.S. market is not the leading force. It's more of a following force. And you have markets that are much more advanced than you have. So there's a lot of catching up to happen. We believe that will happen. And the catch up in United States will happen. You have the FedNow project. Things are coming along. You have that, you have lots of services come to play. But for sure, there's a lot of progress yet to be made in the United States that if you compare it to other countries around the globe, it's kind of a lagging a lot.\\n\\n..........................................................................................................................................................................................................................\\nGeorge Sutton\\n\\nGot it. And then, I guess, will the partnership with Mastercard actually help you grow in the U.S.? Or is that predominantly internationally focused?\\n..........................................................................................................................................................................................................................\\nOdilon Almeida\\n\\nYou know, we are very excited about that. And also Mastercard is very excited about that. But I am very skeptical on everything that we start doing like those big items. This can be huge, don't get me wrong, it can be huge. But it's really like something that we are going to be testing together with Mastercard and learning market-by-market. And don't forget that, I mean, real-time payments is not a global solution. Last mile is very important. So it's all local. So it may work in one country better than other country and so forth. So it's going to be experiencing and experimenting. But I don't want to undersell this thing and not also oversell. I think it is a great initiative. And we are really behind it big time.\\n..........................................................................................................................................................................................................................\\nGeorge Sutton\\n\\nGreat. And then some of the On Prem deals that were delayed. I know you said they were from new customers. I mean, is it possible that they switch to an On Demand deal? Or is that something you are actively pursuing?\\n..........................................................................................................................................................................................................................\\nOdilon Almeida\\n\\nWe track that with a lot of discipline. So for example, we have rate of wins, rate of losing, losses in our deals, in RFPs. And what I can tell you is that we are not having more losses or less wins that we have up here. So it's not about losing the project itself. It's more about delaying the decision if it were to not happen in the same amount of time that we are expecting that to happen.\\n..........................................................................................................................................................................................................................\\nGeorge Sutton\\n\\nMakes sense. That's it for me. Thanks guys.\\n..........................................................................................................................................................................................................................\\nOperator\\n\\n[Operator Instructions]. Your next question comes from the line of Peter Heckmann from D.A. Davidson & Co.. Your line is open.\\n..........................................................................................................................................................................................................................\\nAlexis Huseby\\n\\nGood morning guys. This is Alexis, on for Pete. I just wanted to touch in on Speedpay really quickly. Could you help us with the organic growth number for Speedpay in the quarter?\\n..........................................................................................................................................................................................................................\\nScott Behrens\\n\\nWell, Q3, we had Speedpay in all of last year. So really, there's no difference between Speedpay and the core business year-over-year. It's 100% organic. We closed on that deal back in May of 2019. So Q2 had a bit of an inorganic, organic mix. But Q3 was fully comparable.\\n..........................................................................................................................................................................................................................\\nOdilon Almeida\\n\\nI think, Scott, it would be fair to say that a significant impact that you saw was the tax, right, volume in Q3, right?\\n..........................................................................................................................................................................................................................\\nScott Behrens\\n\\nSo yes. Yes, if you look at it, if you are trying to get some color in terms of how it's tracking versus what we are expecting, Speedpay has been tracking to our business case. Obviously, it also delivers a lot of margin and lot of cash flow. So in hindsight, especially going through a year like this, when you are really focused on profitability and cash, Speedpay has been a very good contributor to the business.\\n..........................................................................................................................................................................................................................\\nOdilon Almeida\\n\\nYes. We are very happy with the acquisition. And we look at it and say, there is still much more room to grow scale in bill payment.\\n..........................................................................................................................................................................................................................\\nAlexis Huseby\\n\\nOkay. Understood. That's helpful. Thank you. And then more broadly on On Demand, when you are looking out, I don't know, next year or a couple of years, do you have a sense of when On Demand will be able to reach a sustainable growth range in sort of the mid single digits?\\n..........................................................................................................................................................................................................................\\nOdilon Almeida\\n\\nYes. We are not giving like long term guidance now. But what I can tell you is that November 10, we will be talking about that. So stay tuned, Alexis. And November 10, we will talk in detail about that.\\n..........................................................................................................................................................................................................................\\nAlexis Huseby\\n\\nOkay. Fair enough. Thank you.\\n..........................................................................................................................................................................................................................\\nOperator\\n\\n[Operator Instructions]. Excuse me, sirs, there are no more follow on questions. You may continue.\\n..........................................................................................................................................................................................................................\\nJohn Kraft\\n\\nWell, thanks, everybody, for listening. We look forward to getting in front of everybody again next Tuesday at our Analyst Day. Have a good day.\\n..........................................................................................................................................................................................................................\\nOperator\\n\\nThis concludes today's conference call. You may now disconnect. Presenters, please standby.\\n\\n\\n\\n\\n\\n\""
      ]
     },
     "execution_count": 34,
     "metadata": {},
     "output_type": "execute_result"
    }
   ],
   "source": [
    "full_doc"
   ]
  },
  {
   "cell_type": "markdown",
   "metadata": {},
   "source": [
    "### Initial Viewing of raw data"
   ]
  },
  {
   "cell_type": "code",
   "execution_count": 35,
   "metadata": {},
   "outputs": [
    {
     "name": "stdout",
     "output_type": "stream",
     "text": [
      "------\n",
      "['', '', 'Operator', '', '[Operator Instructions] Your first line comes from the line of Joe Vafi from Canaccord Genuity. Your line is open.', '']\n",
      "------\n",
      "['', '', 'Pallav Saini', '', 'Thank you. This is Pallav Saini, on for Joe. Strong new bookings in the On Demand business in the quarter, can you offer any additional color on where you are seeing the most traction? And maybe speak to it from a domestic and international perspective as well? And I have a follow-up.', '']\n",
      "------\n",
      "['', '', 'Scott Behrens', '', \"Yes. And Odilon cited some of that in his commentary, was the strength in On Demand is coming from biller and e-commerce. Our biller business is entirely U.S. domestic. But remember, that's where we are getting the traction on our combination of ACI with the Speedpay acquisition. And then the e-commerce is international. If I look broader outside the U.S. and I would include here too, the On Premise sales as well, we continue to see weakness in Europe in particular. But Asia, we are seeing particular strength, albeit off a smaller base of our business, but you wanted some geographic color.\", '']\n"
     ]
    }
   ],
   "source": [
    "s_list = full_doc.split(\"\"\"..........................................................................................................................................................................................................................\"\"\")\n",
    "for i in s_list[6:9]:\n",
    "    print('------')\n",
    "    print(i.split('\\n'))\n"
   ]
  },
  {
   "cell_type": "markdown",
   "metadata": {},
   "source": [
    "### Cleaning data"
   ]
  },
  {
   "cell_type": "code",
   "execution_count": 36,
   "metadata": {},
   "outputs": [],
   "source": [
    "# Manually removing the things that were cluttering things but not easily removed.\n",
    "clean_list = ['',' ','  ','   ','    ','A','1 ', '2 ', '3 ','4 ','5 ','6 ','7 ',\n",
    "              '8 ','9 ','10 ','11 ','12 ','13 ','14 ','15 ','16 ',\n",
    "              ]"
   ]
  },
  {
   "cell_type": "code",
   "execution_count": 37,
   "metadata": {},
   "outputs": [],
   "source": [
    "# Creating a DataFrame from a list of lists.\n",
    "splits = [mini_list.replace('©','').split('\\n') for mini_list in s_list]\n",
    "df = pd.DataFrame([[item for item in mini_list if not item in clean_list] for mini_list in splits])\n",
    "\n",
    "# Dropping specific rows that aren't what we're looking for but were created anyways\n",
    "#df.drop([0,1,2,7,15,22,28,36,42], inplace=True)\n",
    "df.drop([0,5,6,41], inplace=True)\n",
    "\n",
    "# Removing specific cells that were better off empty\n",
    "for i in [3,4,5,6,32,41]:\n",
    "    df[1][i] = None"
   ]
  },
  {
   "cell_type": "code",
   "execution_count": 38,
   "metadata": {},
   "outputs": [],
   "source": [
    "df['full_statement'] = df[df.columns[1:]].apply(lambda x: ','.join(x.dropna()), axis=1)\n",
    "\n",
    "df.drop([i for i in df.columns][1:-1], # list of all columns that aren't the 0 or full_statement\n",
    "        axis=1, inplace = True)"
   ]
  },
  {
   "cell_type": "code",
   "execution_count": 39,
   "metadata": {},
   "outputs": [
    {
     "data": {
      "text/html": [
       "<div>\n",
       "<style scoped>\n",
       "    .dataframe tbody tr th:only-of-type {\n",
       "        vertical-align: middle;\n",
       "    }\n",
       "\n",
       "    .dataframe tbody tr th {\n",
       "        vertical-align: top;\n",
       "    }\n",
       "\n",
       "    .dataframe thead th {\n",
       "        text-align: right;\n",
       "    }\n",
       "</style>\n",
       "<table border=\"1\" class=\"dataframe\">\n",
       "  <thead>\n",
       "    <tr style=\"text-align: right;\">\n",
       "      <th></th>\n",
       "      <th>0</th>\n",
       "      <th>full_statement</th>\n",
       "    </tr>\n",
       "  </thead>\n",
       "  <tbody>\n",
       "    <tr>\n",
       "      <th>1</th>\n",
       "      <td>Operator</td>\n",
       "      <td>Ladies and gentlemen, thank you for standing b...</td>\n",
       "    </tr>\n",
       "    <tr>\n",
       "      <th>2</th>\n",
       "      <td>John Kraft</td>\n",
       "      <td>Thank you and good morning everyone. Today's c...</td>\n",
       "    </tr>\n",
       "    <tr>\n",
       "      <th>3</th>\n",
       "      <td>Odilon Almeida</td>\n",
       "      <td>During this crisis, we have remained focused o...</td>\n",
       "    </tr>\n",
       "  </tbody>\n",
       "</table>\n",
       "</div>"
      ],
      "text/plain": [
       "                0                                     full_statement\n",
       "1        Operator  Ladies and gentlemen, thank you for standing b...\n",
       "2      John Kraft  Thank you and good morning everyone. Today's c...\n",
       "3  Odilon Almeida  During this crisis, we have remained focused o..."
      ]
     },
     "execution_count": 39,
     "metadata": {},
     "output_type": "execute_result"
    }
   ],
   "source": [
    "df.head(3)"
   ]
  },
  {
   "cell_type": "markdown",
   "metadata": {},
   "source": [
    "### Obtaining Desired Data"
   ]
  },
  {
   "cell_type": "code",
   "execution_count": 40,
   "metadata": {},
   "outputs": [
    {
     "data": {
      "text/html": [
       "<div>\n",
       "<style scoped>\n",
       "    .dataframe tbody tr th:only-of-type {\n",
       "        vertical-align: middle;\n",
       "    }\n",
       "\n",
       "    .dataframe tbody tr th {\n",
       "        vertical-align: top;\n",
       "    }\n",
       "\n",
       "    .dataframe thead th {\n",
       "        text-align: right;\n",
       "    }\n",
       "</style>\n",
       "<table border=\"1\" class=\"dataframe\">\n",
       "  <thead>\n",
       "    <tr style=\"text-align: right;\">\n",
       "      <th></th>\n",
       "      <th>0</th>\n",
       "      <th>full_statement</th>\n",
       "      <th>sentiment</th>\n",
       "      <th>GF_complexity</th>\n",
       "    </tr>\n",
       "  </thead>\n",
       "  <tbody>\n",
       "    <tr>\n",
       "      <th>1</th>\n",
       "      <td>Operator</td>\n",
       "      <td>Ladies and gentlemen, thank you for standing b...</td>\n",
       "      <td>0.400000</td>\n",
       "      <td>10.12</td>\n",
       "    </tr>\n",
       "    <tr>\n",
       "      <th>2</th>\n",
       "      <td>John Kraft</td>\n",
       "      <td>Thank you and good morning everyone. Today's c...</td>\n",
       "      <td>0.256970</td>\n",
       "      <td>12.30</td>\n",
       "    </tr>\n",
       "    <tr>\n",
       "      <th>3</th>\n",
       "      <td>Odilon Almeida</td>\n",
       "      <td>During this crisis, we have remained focused o...</td>\n",
       "      <td>0.185992</td>\n",
       "      <td>17.73</td>\n",
       "    </tr>\n",
       "    <tr>\n",
       "      <th>4</th>\n",
       "      <td>Scott Behrens</td>\n",
       "      <td>Total bookings grew 43% compared to Q3 last ye...</td>\n",
       "      <td>0.067397</td>\n",
       "      <td>13.33</td>\n",
       "    </tr>\n",
       "    <tr>\n",
       "      <th>7</th>\n",
       "      <td>Pallav Saini</td>\n",
       "      <td>Thank you. This is Pallav Saini, on for Joe. S...</td>\n",
       "      <td>0.213939</td>\n",
       "      <td>8.28</td>\n",
       "    </tr>\n",
       "  </tbody>\n",
       "</table>\n",
       "</div>"
      ],
      "text/plain": [
       "                0                                     full_statement  \\\n",
       "1        Operator  Ladies and gentlemen, thank you for standing b...   \n",
       "2      John Kraft  Thank you and good morning everyone. Today's c...   \n",
       "3  Odilon Almeida  During this crisis, we have remained focused o...   \n",
       "4   Scott Behrens  Total bookings grew 43% compared to Q3 last ye...   \n",
       "7    Pallav Saini  Thank you. This is Pallav Saini, on for Joe. S...   \n",
       "\n",
       "   sentiment  GF_complexity  \n",
       "1   0.400000          10.12  \n",
       "2   0.256970          12.30  \n",
       "3   0.185992          17.73  \n",
       "4   0.067397          13.33  \n",
       "7   0.213939           8.28  "
      ]
     },
     "execution_count": 40,
     "metadata": {},
     "output_type": "execute_result"
    }
   ],
   "source": [
    "# Creating a sentiment column from the full_statement column\n",
    "df['sentiment'] = df['full_statement'].map(lambda x: Sentamentize(x))\n",
    "\n",
    "# Creating a complexity column from the full_statement column\n",
    "df['GF_complexity'] = df['full_statement'].map(lambda x: textstat.gunning_fog(x))\n",
    "\n",
    "df.head()\n",
    "# Still looking good"
   ]
  },
  {
   "cell_type": "code",
   "execution_count": 41,
   "metadata": {},
   "outputs": [],
   "source": [
    "# Saving the data\n",
    "#df.to_csv('../NLP_of_Earning_Calls.csv')\n",
    "df.to_csv('ACI.csv')"
   ]
  },
  {
   "cell_type": "code",
   "execution_count": null,
   "metadata": {},
   "outputs": [],
   "source": []
  }
 ],
 "metadata": {
  "kernelspec": {
   "display_name": "Python 3",
   "language": "python",
   "name": "python3"
  },
  "language_info": {
   "codemirror_mode": {
    "name": "ipython",
    "version": 3
   },
   "file_extension": ".py",
   "mimetype": "text/x-python",
   "name": "python",
   "nbconvert_exporter": "python",
   "pygments_lexer": "ipython3",
   "version": "3.7.8"
  }
 },
 "nbformat": 4,
 "nbformat_minor": 2
}
